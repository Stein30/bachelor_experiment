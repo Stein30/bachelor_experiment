{
 "cells": [
  {
   "cell_type": "code",
   "execution_count": 1,
   "metadata": {},
   "outputs": [
    {
     "name": "stdout",
     "output_type": "stream",
     "text": [
      "23 0 235 159\n",
      "417\n"
     ]
    }
   ],
   "source": [
    "file_name =  'output2.xlsx'\n",
    "import pandas as pd\n",
    "dfx= pd.read_excel(io=file_name, usecols=[3,7,8,9,10])\n",
    "\n",
    "df_ss = dfx[dfx['geo'].str.contains('Ss')] \n",
    "\n",
    "a = df_ss.to_numpy()\n",
    "\n",
    "l = len(a)\n",
    "maxj = 0\n",
    "\n",
    "sec1 = 0\n",
    "sec2 = 0\n",
    "sec3 = 0\n",
    "sec4 = 0\n",
    "\n",
    "for i in range(1,l):\n",
    "    if a[i,0] < 135.185 and a[i,1] < 34.169:\n",
    "        sec1=sec1+1\n",
    "    elif a[i,0] >= 135.185 and a[i,1] < 34.169:\n",
    "        sec2=sec2+1\n",
    "    elif a[i,0] >= 135.185 and a[i,1] >= 34.169:\n",
    "        sec3=sec3+1\n",
    "    elif a[i,0] < 135.185 and a[i,1] >= 34.169:\n",
    "        sec4=sec4+1\n",
    "    else:\n",
    "        print(\"error\")\n",
    "    \n",
    "print(sec1, sec2, sec3, sec4)\n",
    "print(sec1+sec2+sec3+sec4)"
   ]
  },
  {
   "cell_type": "code",
   "execution_count": 2,
   "metadata": {},
   "outputs": [],
   "source": [
    "import numpy as np\n",
    "from pykrige.rk import Krige\n",
    "from sklearn.model_selection import GridSearchCV\n",
    "\n",
    "# 3D Kring param opt\n",
    "param_dict3d = {\n",
    "    \"method\": [\"ordinary3d\", \"universal3d\"],\n",
    "    \"variogram_model\": [\"linear\", \"power\", \"gaussian\", \"spherical\"],\n",
    "# \"nlags\": [4, 6, 8],\n",
    "# \"weight\": [True, False]\n",
    "}\n",
    "\n",
    "estimator = GridSearchCV(Krige(), param_dict3d, verbose=True, return_train_score=True)"
   ]
  },
  {
   "cell_type": "code",
   "execution_count": 3,
   "metadata": {},
   "outputs": [
    {
     "name": "stdout",
     "output_type": "stream",
     "text": [
      "24\n"
     ]
    }
   ],
   "source": [
    "#section 1\n",
    "file_name =  'output2.xlsx'\n",
    "import pandas as pd\n",
    "dfx= pd.read_excel(io=file_name, usecols=[3,7,8,9,10])\n",
    "df_sec1 = dfx[dfx['lat'] < 34.169] \n",
    "dfx_sec1 = df_sec1[df_sec1['lon'] < 135.185]\n",
    "\n",
    "df1_ss = dfx_sec1[dfx_sec1['geo'].str.contains('Ss')] \n",
    "dfx1_ss = df1_ss.drop(['geo','depth'], axis=1)\n",
    "dfx1_y = df1_ss.drop(['lat','lon','alt','geo'], axis=1)\n",
    "\n",
    "X1 = dfx1_ss.to_numpy()\n",
    "y = dfx1_y.to_numpy()\n",
    "\n",
    "pd.set_option('display.max_rows', dfx.shape[0]+1)\n",
    "print(len(df1_ss))"
   ]
  },
  {
   "cell_type": "code",
   "execution_count": 4,
   "metadata": {},
   "outputs": [
    {
     "name": "stdout",
     "output_type": "stream",
     "text": [
      "Fitting 5 folds for each of 8 candidates, totalling 40 fits\n"
     ]
    },
    {
     "name": "stderr",
     "output_type": "stream",
     "text": [
      "[Parallel(n_jobs=1)]: Using backend SequentialBackend with 1 concurrent workers.\n",
      "/opt/anaconda3/lib/python3.8/site-packages/sklearn/model_selection/_validation.py:548: FitFailedWarning: Estimator fit failed. The score on this train-test partition for these parameters will be set to nan. Details: \n",
      "Traceback (most recent call last):\n",
      "  File \"/opt/anaconda3/lib/python3.8/site-packages/sklearn/model_selection/_validation.py\", line 531, in _fit_and_score\n",
      "    estimator.fit(X_train, y_train, **fit_params)\n",
      "  File \"/opt/anaconda3/lib/python3.8/site-packages/pykrige/rk.py\", line 202, in fit\n",
      "    self.model = krige_methods[self.method](**input_kw)\n",
      "  File \"/opt/anaconda3/lib/python3.8/site-packages/pykrige/ok3d.py\", line 350, in __init__\n",
      "    self.delta, self.sigma, self.epsilon = _find_statistics(\n",
      "  File \"/opt/anaconda3/lib/python3.8/site-packages/pykrige/core.py\", line 835, in _find_statistics\n",
      "    k, ss = _krige(\n",
      "  File \"/opt/anaconda3/lib/python3.8/site-packages/pykrige/core.py\", line 777, in _krige\n",
      "    res = np.linalg.solve(a, b)\n",
      "  File \"<__array_function__ internals>\", line 5, in solve\n",
      "  File \"/opt/anaconda3/lib/python3.8/site-packages/numpy/linalg/linalg.py\", line 399, in solve\n",
      "    r = gufunc(a, b, signature=signature, extobj=extobj)\n",
      "  File \"/opt/anaconda3/lib/python3.8/site-packages/numpy/linalg/linalg.py\", line 97, in _raise_linalgerror_singular\n",
      "    raise LinAlgError(\"Singular matrix\")\n",
      "numpy.linalg.LinAlgError: Singular matrix\n",
      "\n",
      "  warnings.warn(\"Estimator fit failed. The score on this train-test\"\n"
     ]
    },
    {
     "name": "stdout",
     "output_type": "stream",
     "text": [
      "n_closest_points will be ignored for UniversalKriging\n",
      "n_closest_points will be ignored for UniversalKriging\n",
      "n_closest_points will be ignored for UniversalKriging\n",
      "n_closest_points will be ignored for UniversalKriging\n",
      "n_closest_points will be ignored for UniversalKriging\n",
      "n_closest_points will be ignored for UniversalKriging\n",
      "n_closest_points will be ignored for UniversalKriging\n",
      "n_closest_points will be ignored for UniversalKriging\n",
      "n_closest_points will be ignored for UniversalKriging\n",
      "n_closest_points will be ignored for UniversalKriging\n",
      "n_closest_points will be ignored for UniversalKriging\n",
      "n_closest_points will be ignored for UniversalKriging\n",
      "n_closest_points will be ignored for UniversalKriging\n",
      "n_closest_points will be ignored for UniversalKriging\n",
      "n_closest_points will be ignored for UniversalKriging\n",
      "n_closest_points will be ignored for UniversalKriging\n",
      "n_closest_points will be ignored for UniversalKriging\n",
      "n_closest_points will be ignored for UniversalKriging\n",
      "n_closest_points will be ignored for UniversalKriging\n"
     ]
    },
    {
     "name": "stderr",
     "output_type": "stream",
     "text": [
      "/opt/anaconda3/lib/python3.8/site-packages/sklearn/model_selection/_validation.py:548: FitFailedWarning: Estimator fit failed. The score on this train-test partition for these parameters will be set to nan. Details: \n",
      "Traceback (most recent call last):\n",
      "  File \"/opt/anaconda3/lib/python3.8/site-packages/sklearn/model_selection/_validation.py\", line 531, in _fit_and_score\n",
      "    estimator.fit(X_train, y_train, **fit_params)\n",
      "  File \"/opt/anaconda3/lib/python3.8/site-packages/pykrige/rk.py\", line 202, in fit\n",
      "    self.model = krige_methods[self.method](**input_kw)\n",
      "  File \"/opt/anaconda3/lib/python3.8/site-packages/pykrige/uk3d.py\", line 378, in __init__\n",
      "    self.delta, self.sigma, self.epsilon = _find_statistics(\n",
      "  File \"/opt/anaconda3/lib/python3.8/site-packages/pykrige/core.py\", line 835, in _find_statistics\n",
      "    k, ss = _krige(\n",
      "  File \"/opt/anaconda3/lib/python3.8/site-packages/pykrige/core.py\", line 777, in _krige\n",
      "    res = np.linalg.solve(a, b)\n",
      "  File \"<__array_function__ internals>\", line 5, in solve\n",
      "  File \"/opt/anaconda3/lib/python3.8/site-packages/numpy/linalg/linalg.py\", line 399, in solve\n",
      "    r = gufunc(a, b, signature=signature, extobj=extobj)\n",
      "  File \"/opt/anaconda3/lib/python3.8/site-packages/numpy/linalg/linalg.py\", line 97, in _raise_linalgerror_singular\n",
      "    raise LinAlgError(\"Singular matrix\")\n",
      "numpy.linalg.LinAlgError: Singular matrix\n",
      "\n",
      "  warnings.warn(\"Estimator fit failed. The score on this train-test\"\n"
     ]
    },
    {
     "name": "stdout",
     "output_type": "stream",
     "text": [
      "n_closest_points will be ignored for UniversalKriging\n",
      "n_closest_points will be ignored for UniversalKriging\n",
      "n_closest_points will be ignored for UniversalKriging\n",
      "n_closest_points will be ignored for UniversalKriging\n",
      "n_closest_points will be ignored for UniversalKriging\n",
      "n_closest_points will be ignored for UniversalKriging\n",
      "n_closest_points will be ignored for UniversalKriging\n",
      "n_closest_points will be ignored for UniversalKriging\n",
      "n_closest_points will be ignored for UniversalKriging\n",
      "n_closest_points will be ignored for UniversalKriging\n",
      "n_closest_points will be ignored for UniversalKriging\n",
      "n_closest_points will be ignored for UniversalKriging\n",
      "n_closest_points will be ignored for UniversalKriging\n",
      "n_closest_points will be ignored for UniversalKriging\n",
      "n_closest_points will be ignored for UniversalKriging\n",
      "n_closest_points will be ignored for UniversalKriging\n",
      "n_closest_points will be ignored for UniversalKriging\n",
      "n_closest_points will be ignored for UniversalKriging\n",
      "n_closest_points will be ignored for UniversalKriging\n",
      "best_score R2 = -4.442\n",
      "best_params =  {'method': 'ordinary3d', 'variogram_model': 'spherical'}\n",
      "\n",
      "CV results::\n",
      " - mean_test_score : [-4.73107521         nan -5.47461851 -4.44177978 -4.93634912         nan\n",
      " -5.62166926 -4.62078556]\n",
      " - mean_train_score : [ 0.01478463         nan -0.07562202  0.11792176  0.06324217         nan\n",
      " -0.06749871 -0.06880823]\n",
      " - param_method : ['ordinary3d' 'ordinary3d' 'ordinary3d' 'ordinary3d' 'universal3d'\n",
      " 'universal3d' 'universal3d' 'universal3d']\n",
      " - param_variogram_model : ['linear' 'power' 'gaussian' 'spherical' 'linear' 'power' 'gaussian'\n",
      " 'spherical']\n"
     ]
    },
    {
     "name": "stderr",
     "output_type": "stream",
     "text": [
      "[Parallel(n_jobs=1)]: Done  40 out of  40 | elapsed:    0.8s finished\n"
     ]
    }
   ],
   "source": [
    "# run the gridsearch\n",
    "estimator.fit(X=X1, y=y)\n",
    "\n",
    "if hasattr(estimator, \"best_score_\"):\n",
    "    print(\"best_score R2 = {:.3f}\".format(estimator.best_score_))\n",
    "    print(\"best_params = \", estimator.best_params_)\n",
    "    print(\"\\nCV results::\")\n",
    "if hasattr(estimator, \"cv_results_\"):\n",
    "    for key in [\n",
    "        \"mean_test_score\",\n",
    "        \"mean_train_score\",\n",
    "        \"param_method\",\n",
    "        \"param_variogram_model\",\n",
    "    ]:\n",
    "        print(\" - {} : {}\".format(key, estimator.cv_results_[key]))"
   ]
  },
  {
   "cell_type": "code",
   "execution_count": 5,
   "metadata": {},
   "outputs": [
    {
     "name": "stdout",
     "output_type": "stream",
     "text": [
      "235\n"
     ]
    }
   ],
   "source": [
    "#section 3\n",
    "file_name =  'output2.xlsx'\n",
    "import pandas as pd\n",
    "dfx= pd.read_excel(io=file_name, usecols=[3,7,8,9,10])\n",
    "df_sec2 = dfx[dfx['lat'] >= 34.169] \n",
    "dfx_sec2 = df_sec2[df_sec2['lon'] >= 135.185]\n",
    "\n",
    "df2_ss = dfx_sec2[dfx_sec2['geo'].str.contains('Ss')] \n",
    "dfx2_ss = df2_ss.drop(['geo','depth'], axis=1)\n",
    "dfx2_y = df2_ss.drop(['lat','lon','alt','geo'], axis=1)\n",
    "\n",
    "X2 = dfx2_ss.to_numpy()\n",
    "y = dfx2_y.to_numpy()\n",
    "\n",
    "pd.set_option('display.max_rows', dfx.shape[0]+1)\n",
    "print(len(df2_ss))"
   ]
  },
  {
   "cell_type": "code",
   "execution_count": 6,
   "metadata": {},
   "outputs": [
    {
     "name": "stdout",
     "output_type": "stream",
     "text": [
      "Fitting 5 folds for each of 8 candidates, totalling 40 fits\n"
     ]
    },
    {
     "name": "stderr",
     "output_type": "stream",
     "text": [
      "[Parallel(n_jobs=1)]: Using backend SequentialBackend with 1 concurrent workers.\n",
      "/opt/anaconda3/lib/python3.8/site-packages/sklearn/model_selection/_validation.py:548: FitFailedWarning: Estimator fit failed. The score on this train-test partition for these parameters will be set to nan. Details: \n",
      "Traceback (most recent call last):\n",
      "  File \"/opt/anaconda3/lib/python3.8/site-packages/sklearn/model_selection/_validation.py\", line 531, in _fit_and_score\n",
      "    estimator.fit(X_train, y_train, **fit_params)\n",
      "  File \"/opt/anaconda3/lib/python3.8/site-packages/pykrige/rk.py\", line 202, in fit\n",
      "    self.model = krige_methods[self.method](**input_kw)\n",
      "  File \"/opt/anaconda3/lib/python3.8/site-packages/pykrige/ok3d.py\", line 350, in __init__\n",
      "    self.delta, self.sigma, self.epsilon = _find_statistics(\n",
      "  File \"/opt/anaconda3/lib/python3.8/site-packages/pykrige/core.py\", line 835, in _find_statistics\n",
      "    k, ss = _krige(\n",
      "  File \"/opt/anaconda3/lib/python3.8/site-packages/pykrige/core.py\", line 777, in _krige\n",
      "    res = np.linalg.solve(a, b)\n",
      "  File \"<__array_function__ internals>\", line 5, in solve\n",
      "  File \"/opt/anaconda3/lib/python3.8/site-packages/numpy/linalg/linalg.py\", line 399, in solve\n",
      "    r = gufunc(a, b, signature=signature, extobj=extobj)\n",
      "  File \"/opt/anaconda3/lib/python3.8/site-packages/numpy/linalg/linalg.py\", line 97, in _raise_linalgerror_singular\n",
      "    raise LinAlgError(\"Singular matrix\")\n",
      "numpy.linalg.LinAlgError: Singular matrix\n",
      "\n",
      "  warnings.warn(\"Estimator fit failed. The score on this train-test\"\n",
      "/opt/anaconda3/lib/python3.8/site-packages/pykrige/core.py:853: RuntimeWarning: invalid value encountered in sqrt\n",
      "  sigma[i] = np.sqrt(ss)\n",
      "/opt/anaconda3/lib/python3.8/site-packages/sklearn/model_selection/_validation.py:548: FitFailedWarning: Estimator fit failed. The score on this train-test partition for these parameters will be set to nan. Details: \n",
      "Traceback (most recent call last):\n",
      "  File \"/opt/anaconda3/lib/python3.8/site-packages/sklearn/model_selection/_validation.py\", line 531, in _fit_and_score\n",
      "    estimator.fit(X_train, y_train, **fit_params)\n",
      "  File \"/opt/anaconda3/lib/python3.8/site-packages/pykrige/rk.py\", line 202, in fit\n",
      "    self.model = krige_methods[self.method](**input_kw)\n",
      "  File \"/opt/anaconda3/lib/python3.8/site-packages/pykrige/ok3d.py\", line 350, in __init__\n",
      "    self.delta, self.sigma, self.epsilon = _find_statistics(\n",
      "  File \"/opt/anaconda3/lib/python3.8/site-packages/pykrige/core.py\", line 835, in _find_statistics\n",
      "    k, ss = _krige(\n",
      "  File \"/opt/anaconda3/lib/python3.8/site-packages/pykrige/core.py\", line 777, in _krige\n",
      "    res = np.linalg.solve(a, b)\n",
      "  File \"<__array_function__ internals>\", line 5, in solve\n",
      "  File \"/opt/anaconda3/lib/python3.8/site-packages/numpy/linalg/linalg.py\", line 399, in solve\n",
      "    r = gufunc(a, b, signature=signature, extobj=extobj)\n",
      "  File \"/opt/anaconda3/lib/python3.8/site-packages/numpy/linalg/linalg.py\", line 97, in _raise_linalgerror_singular\n",
      "    raise LinAlgError(\"Singular matrix\")\n",
      "numpy.linalg.LinAlgError: Singular matrix\n",
      "\n",
      "  warnings.warn(\"Estimator fit failed. The score on this train-test\"\n",
      "/opt/anaconda3/lib/python3.8/site-packages/sklearn/model_selection/_validation.py:548: FitFailedWarning: Estimator fit failed. The score on this train-test partition for these parameters will be set to nan. Details: \n",
      "Traceback (most recent call last):\n",
      "  File \"/opt/anaconda3/lib/python3.8/site-packages/sklearn/model_selection/_validation.py\", line 531, in _fit_and_score\n",
      "    estimator.fit(X_train, y_train, **fit_params)\n",
      "  File \"/opt/anaconda3/lib/python3.8/site-packages/pykrige/rk.py\", line 202, in fit\n",
      "    self.model = krige_methods[self.method](**input_kw)\n",
      "  File \"/opt/anaconda3/lib/python3.8/site-packages/pykrige/ok3d.py\", line 350, in __init__\n",
      "    self.delta, self.sigma, self.epsilon = _find_statistics(\n",
      "  File \"/opt/anaconda3/lib/python3.8/site-packages/pykrige/core.py\", line 835, in _find_statistics\n",
      "    k, ss = _krige(\n",
      "  File \"/opt/anaconda3/lib/python3.8/site-packages/pykrige/core.py\", line 777, in _krige\n",
      "    res = np.linalg.solve(a, b)\n",
      "  File \"<__array_function__ internals>\", line 5, in solve\n",
      "  File \"/opt/anaconda3/lib/python3.8/site-packages/numpy/linalg/linalg.py\", line 399, in solve\n",
      "    r = gufunc(a, b, signature=signature, extobj=extobj)\n",
      "  File \"/opt/anaconda3/lib/python3.8/site-packages/numpy/linalg/linalg.py\", line 97, in _raise_linalgerror_singular\n",
      "    raise LinAlgError(\"Singular matrix\")\n",
      "numpy.linalg.LinAlgError: Singular matrix\n",
      "\n",
      "  warnings.warn(\"Estimator fit failed. The score on this train-test\"\n"
     ]
    },
    {
     "name": "stdout",
     "output_type": "stream",
     "text": [
      "n_closest_points will be ignored for UniversalKriging\n",
      "n_closest_points will be ignored for UniversalKriging\n"
     ]
    },
    {
     "name": "stderr",
     "output_type": "stream",
     "text": [
      "/opt/anaconda3/lib/python3.8/site-packages/sklearn/model_selection/_validation.py:548: FitFailedWarning: Estimator fit failed. The score on this train-test partition for these parameters will be set to nan. Details: \n",
      "Traceback (most recent call last):\n",
      "  File \"/opt/anaconda3/lib/python3.8/site-packages/sklearn/model_selection/_validation.py\", line 531, in _fit_and_score\n",
      "    estimator.fit(X_train, y_train, **fit_params)\n",
      "  File \"/opt/anaconda3/lib/python3.8/site-packages/pykrige/rk.py\", line 202, in fit\n",
      "    self.model = krige_methods[self.method](**input_kw)\n",
      "  File \"/opt/anaconda3/lib/python3.8/site-packages/pykrige/uk3d.py\", line 378, in __init__\n",
      "    self.delta, self.sigma, self.epsilon = _find_statistics(\n",
      "  File \"/opt/anaconda3/lib/python3.8/site-packages/pykrige/core.py\", line 835, in _find_statistics\n",
      "    k, ss = _krige(\n",
      "  File \"/opt/anaconda3/lib/python3.8/site-packages/pykrige/core.py\", line 777, in _krige\n",
      "    res = np.linalg.solve(a, b)\n",
      "  File \"<__array_function__ internals>\", line 5, in solve\n",
      "  File \"/opt/anaconda3/lib/python3.8/site-packages/numpy/linalg/linalg.py\", line 399, in solve\n",
      "    r = gufunc(a, b, signature=signature, extobj=extobj)\n",
      "  File \"/opt/anaconda3/lib/python3.8/site-packages/numpy/linalg/linalg.py\", line 97, in _raise_linalgerror_singular\n",
      "    raise LinAlgError(\"Singular matrix\")\n",
      "numpy.linalg.LinAlgError: Singular matrix\n",
      "\n",
      "  warnings.warn(\"Estimator fit failed. The score on this train-test\"\n",
      "/opt/anaconda3/lib/python3.8/site-packages/pykrige/core.py:853: RuntimeWarning: invalid value encountered in sqrt\n",
      "  sigma[i] = np.sqrt(ss)\n"
     ]
    },
    {
     "name": "stdout",
     "output_type": "stream",
     "text": [
      "n_closest_points will be ignored for UniversalKriging\n",
      "n_closest_points will be ignored for UniversalKriging\n",
      "n_closest_points will be ignored for UniversalKriging\n",
      "n_closest_points will be ignored for UniversalKriging\n",
      "n_closest_points will be ignored for UniversalKriging\n",
      "n_closest_points will be ignored for UniversalKriging\n",
      "n_closest_points will be ignored for UniversalKriging\n",
      "n_closest_points will be ignored for UniversalKriging\n",
      "n_closest_points will be ignored for UniversalKriging\n",
      "n_closest_points will be ignored for UniversalKriging\n",
      "n_closest_points will be ignored for UniversalKriging\n",
      "n_closest_points will be ignored for UniversalKriging\n",
      "n_closest_points will be ignored for UniversalKriging\n",
      "n_closest_points will be ignored for UniversalKriging\n",
      "n_closest_points will be ignored for UniversalKriging\n",
      "n_closest_points will be ignored for UniversalKriging\n",
      "n_closest_points will be ignored for UniversalKriging\n",
      "n_closest_points will be ignored for UniversalKriging\n",
      "n_closest_points will be ignored for UniversalKriging\n",
      "n_closest_points will be ignored for UniversalKriging\n"
     ]
    },
    {
     "name": "stderr",
     "output_type": "stream",
     "text": [
      "/opt/anaconda3/lib/python3.8/site-packages/sklearn/model_selection/_validation.py:548: FitFailedWarning: Estimator fit failed. The score on this train-test partition for these parameters will be set to nan. Details: \n",
      "Traceback (most recent call last):\n",
      "  File \"/opt/anaconda3/lib/python3.8/site-packages/sklearn/model_selection/_validation.py\", line 531, in _fit_and_score\n",
      "    estimator.fit(X_train, y_train, **fit_params)\n",
      "  File \"/opt/anaconda3/lib/python3.8/site-packages/pykrige/rk.py\", line 202, in fit\n",
      "    self.model = krige_methods[self.method](**input_kw)\n",
      "  File \"/opt/anaconda3/lib/python3.8/site-packages/pykrige/uk3d.py\", line 378, in __init__\n",
      "    self.delta, self.sigma, self.epsilon = _find_statistics(\n",
      "  File \"/opt/anaconda3/lib/python3.8/site-packages/pykrige/core.py\", line 835, in _find_statistics\n",
      "    k, ss = _krige(\n",
      "  File \"/opt/anaconda3/lib/python3.8/site-packages/pykrige/core.py\", line 777, in _krige\n",
      "    res = np.linalg.solve(a, b)\n",
      "  File \"<__array_function__ internals>\", line 5, in solve\n",
      "  File \"/opt/anaconda3/lib/python3.8/site-packages/numpy/linalg/linalg.py\", line 399, in solve\n",
      "    r = gufunc(a, b, signature=signature, extobj=extobj)\n",
      "  File \"/opt/anaconda3/lib/python3.8/site-packages/numpy/linalg/linalg.py\", line 97, in _raise_linalgerror_singular\n",
      "    raise LinAlgError(\"Singular matrix\")\n",
      "numpy.linalg.LinAlgError: Singular matrix\n",
      "\n",
      "  warnings.warn(\"Estimator fit failed. The score on this train-test\"\n",
      "/opt/anaconda3/lib/python3.8/site-packages/sklearn/model_selection/_validation.py:548: FitFailedWarning: Estimator fit failed. The score on this train-test partition for these parameters will be set to nan. Details: \n",
      "Traceback (most recent call last):\n",
      "  File \"/opt/anaconda3/lib/python3.8/site-packages/sklearn/model_selection/_validation.py\", line 531, in _fit_and_score\n",
      "    estimator.fit(X_train, y_train, **fit_params)\n",
      "  File \"/opt/anaconda3/lib/python3.8/site-packages/pykrige/rk.py\", line 202, in fit\n",
      "    self.model = krige_methods[self.method](**input_kw)\n",
      "  File \"/opt/anaconda3/lib/python3.8/site-packages/pykrige/uk3d.py\", line 378, in __init__\n",
      "    self.delta, self.sigma, self.epsilon = _find_statistics(\n",
      "  File \"/opt/anaconda3/lib/python3.8/site-packages/pykrige/core.py\", line 835, in _find_statistics\n",
      "    k, ss = _krige(\n",
      "  File \"/opt/anaconda3/lib/python3.8/site-packages/pykrige/core.py\", line 777, in _krige\n",
      "    res = np.linalg.solve(a, b)\n",
      "  File \"<__array_function__ internals>\", line 5, in solve\n",
      "  File \"/opt/anaconda3/lib/python3.8/site-packages/numpy/linalg/linalg.py\", line 399, in solve\n",
      "    r = gufunc(a, b, signature=signature, extobj=extobj)\n",
      "  File \"/opt/anaconda3/lib/python3.8/site-packages/numpy/linalg/linalg.py\", line 97, in _raise_linalgerror_singular\n",
      "    raise LinAlgError(\"Singular matrix\")\n",
      "numpy.linalg.LinAlgError: Singular matrix\n",
      "\n",
      "  warnings.warn(\"Estimator fit failed. The score on this train-test\"\n"
     ]
    },
    {
     "name": "stdout",
     "output_type": "stream",
     "text": [
      "n_closest_points will be ignored for UniversalKriging\n",
      "n_closest_points will be ignored for UniversalKriging\n",
      "n_closest_points will be ignored for UniversalKriging\n",
      "n_closest_points will be ignored for UniversalKriging\n",
      "n_closest_points will be ignored for UniversalKriging\n",
      "n_closest_points will be ignored for UniversalKriging\n"
     ]
    },
    {
     "name": "stderr",
     "output_type": "stream",
     "text": [
      "[Parallel(n_jobs=1)]: Done  40 out of  40 | elapsed:    6.8s finished\n"
     ]
    },
    {
     "name": "stdout",
     "output_type": "stream",
     "text": [
      "best_score R2 = -1.030\n",
      "best_params =  {'method': 'universal3d', 'variogram_model': 'power'}\n",
      "\n",
      "CV results::\n",
      " - mean_test_score : [        nan -1.29538152         nan         nan         nan -1.02960005\n",
      "         nan         nan]\n",
      " - mean_train_score : [        nan  0.13809662         nan         nan         nan -4.61771857\n",
      "         nan         nan]\n",
      " - param_method : ['ordinary3d' 'ordinary3d' 'ordinary3d' 'ordinary3d' 'universal3d'\n",
      " 'universal3d' 'universal3d' 'universal3d']\n",
      " - param_variogram_model : ['linear' 'power' 'gaussian' 'spherical' 'linear' 'power' 'gaussian'\n",
      " 'spherical']\n"
     ]
    }
   ],
   "source": [
    "# run the gridsearch\n",
    "estimator.fit(X=X2, y=y)\n",
    "\n",
    "if hasattr(estimator, \"best_score_\"):\n",
    "    print(\"best_score R2 = {:.3f}\".format(estimator.best_score_))\n",
    "    print(\"best_params = \", estimator.best_params_)\n",
    "    print(\"\\nCV results::\")\n",
    "if hasattr(estimator, \"cv_results_\"):\n",
    "    for key in [\n",
    "        \"mean_test_score\",\n",
    "        \"mean_train_score\",\n",
    "        \"param_method\",\n",
    "        \"param_variogram_model\",\n",
    "    ]:\n",
    "        print(\" - {} : {}\".format(key, estimator.cv_results_[key]))"
   ]
  },
  {
   "cell_type": "code",
   "execution_count": 7,
   "metadata": {},
   "outputs": [
    {
     "name": "stdout",
     "output_type": "stream",
     "text": [
      "159\n"
     ]
    }
   ],
   "source": [
    "#section 4\n",
    "file_name =  'output2.xlsx'\n",
    "import pandas as pd\n",
    "dfx= pd.read_excel(io=file_name, usecols=[3,7,8,9,10])\n",
    "df_sec3 = dfx[dfx['lat'] >= 34.169] \n",
    "dfx_sec3 = df_sec3[df_sec3['lon'] < 135.185]\n",
    "\n",
    "df3_ss = dfx_sec3[dfx_sec3['geo'].str.contains('Ss')] \n",
    "dfx3_ss = df3_ss.drop(['geo','depth'], axis=1)\n",
    "dfx3_y = df3_ss.drop(['lat','lon','alt','geo'], axis=1)\n",
    "\n",
    "X3 = dfx3_ss.to_numpy()\n",
    "y = dfx3_y.to_numpy()\n",
    "\n",
    "pd.set_option('display.max_rows', dfx.shape[0]+1)\n",
    "print(len(df3_ss))"
   ]
  },
  {
   "cell_type": "code",
   "execution_count": 8,
   "metadata": {},
   "outputs": [
    {
     "name": "stdout",
     "output_type": "stream",
     "text": [
      "Fitting 5 folds for each of 8 candidates, totalling 40 fits\n"
     ]
    },
    {
     "name": "stderr",
     "output_type": "stream",
     "text": [
      "[Parallel(n_jobs=1)]: Using backend SequentialBackend with 1 concurrent workers.\n"
     ]
    },
    {
     "name": "stdout",
     "output_type": "stream",
     "text": [
      "n_closest_points will be ignored for UniversalKriging\n",
      "n_closest_points will be ignored for UniversalKriging\n",
      "n_closest_points will be ignored for UniversalKriging\n",
      "n_closest_points will be ignored for UniversalKriging\n",
      "n_closest_points will be ignored for UniversalKriging\n",
      "n_closest_points will be ignored for UniversalKriging\n",
      "n_closest_points will be ignored for UniversalKriging\n",
      "n_closest_points will be ignored for UniversalKriging\n",
      "n_closest_points will be ignored for UniversalKriging\n",
      "n_closest_points will be ignored for UniversalKriging\n",
      "n_closest_points will be ignored for UniversalKriging\n",
      "n_closest_points will be ignored for UniversalKriging\n",
      "n_closest_points will be ignored for UniversalKriging\n",
      "n_closest_points will be ignored for UniversalKriging\n",
      "n_closest_points will be ignored for UniversalKriging\n",
      "n_closest_points will be ignored for UniversalKriging\n",
      "n_closest_points will be ignored for UniversalKriging\n",
      "n_closest_points will be ignored for UniversalKriging\n",
      "n_closest_points will be ignored for UniversalKriging\n",
      "n_closest_points will be ignored for UniversalKriging\n",
      "n_closest_points will be ignored for UniversalKriging\n",
      "n_closest_points will be ignored for UniversalKriging\n",
      "n_closest_points will be ignored for UniversalKriging\n",
      "n_closest_points will be ignored for UniversalKriging\n",
      "n_closest_points will be ignored for UniversalKriging\n",
      "n_closest_points will be ignored for UniversalKriging\n",
      "n_closest_points will be ignored for UniversalKriging\n",
      "n_closest_points will be ignored for UniversalKriging\n",
      "n_closest_points will be ignored for UniversalKriging\n",
      "n_closest_points will be ignored for UniversalKriging\n",
      "n_closest_points will be ignored for UniversalKriging\n",
      "n_closest_points will be ignored for UniversalKriging\n",
      "n_closest_points will be ignored for UniversalKriging\n",
      "n_closest_points will be ignored for UniversalKriging\n",
      "n_closest_points will be ignored for UniversalKriging\n",
      "n_closest_points will be ignored for UniversalKriging\n",
      "n_closest_points will be ignored for UniversalKriging\n",
      "n_closest_points will be ignored for UniversalKriging\n",
      "n_closest_points will be ignored for UniversalKriging\n",
      "n_closest_points will be ignored for UniversalKriging\n",
      "best_score R2 = -3.456\n",
      "best_params =  {'method': 'ordinary3d', 'variogram_model': 'linear'}\n",
      "\n",
      "CV results::\n",
      " - mean_test_score : [ -3.45609045  -3.7105138   -3.75125205  -3.61556033  -6.72126924\n",
      " -86.21175952 -22.14184205  -9.53630486]\n",
      " - mean_train_score : [  0.07436999   0.0779704    0.05708213   0.09438697  -8.71986998\n",
      " -27.29233444 -19.55432002  -2.85520139]\n",
      " - param_method : ['ordinary3d' 'ordinary3d' 'ordinary3d' 'ordinary3d' 'universal3d'\n",
      " 'universal3d' 'universal3d' 'universal3d']\n",
      " - param_variogram_model : ['linear' 'power' 'gaussian' 'spherical' 'linear' 'power' 'gaussian'\n",
      " 'spherical']\n"
     ]
    },
    {
     "name": "stderr",
     "output_type": "stream",
     "text": [
      "[Parallel(n_jobs=1)]: Done  40 out of  40 | elapsed:    4.7s finished\n"
     ]
    }
   ],
   "source": [
    "# run the gridsearch\n",
    "estimator.fit(X=X3, y=y)\n",
    "\n",
    "if hasattr(estimator, \"best_score_\"):\n",
    "    print(\"best_score R2 = {:.3f}\".format(estimator.best_score_))\n",
    "    print(\"best_params = \", estimator.best_params_)\n",
    "    print(\"\\nCV results::\")\n",
    "if hasattr(estimator, \"cv_results_\"):\n",
    "    for key in [\n",
    "        \"mean_test_score\",\n",
    "        \"mean_train_score\",\n",
    "        \"param_method\",\n",
    "        \"param_variogram_model\",\n",
    "    ]:\n",
    "        print(\" - {} : {}\".format(key, estimator.cv_results_[key]))"
   ]
  },
  {
   "cell_type": "code",
   "execution_count": null,
   "metadata": {},
   "outputs": [],
   "source": []
  }
 ],
 "metadata": {
  "kernelspec": {
   "display_name": "Python 3",
   "language": "python",
   "name": "python3"
  },
  "language_info": {
   "codemirror_mode": {
    "name": "ipython",
    "version": 3
   },
   "file_extension": ".py",
   "mimetype": "text/x-python",
   "name": "python",
   "nbconvert_exporter": "python",
   "pygments_lexer": "ipython3",
   "version": "3.8.3"
  }
 },
 "nbformat": 4,
 "nbformat_minor": 4
}
